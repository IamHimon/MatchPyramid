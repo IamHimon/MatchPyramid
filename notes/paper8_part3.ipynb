{
 "cells": [
  {
   "cell_type": "markdown",
   "metadata": {},
   "source": [
    "<br>\n",
    "<br>\n",
    "<br>\n",
    "<br>\n",
    "<br>\n",
    "<br>\n",
    "<br>\n",
    "\n",
    "## 《MatchPyramid:Text Matching as Image Recognition 》\n",
    "#### 作者：Liang Pang, Yanyan Lan, Jiafeng Guo\n",
    "#### 单位：中科院\n",
    "#### 发表会议及时间：AAAAI 2016\n",
    "\n",
    "---\n",
    "\n",
    "### 论文主题：文本匹配\n",
    "### 授课老师：himon\n",
    "\n",
    "\n",
    "<br>\n",
    "<br>\n",
    "<br>\n",
    "<br>\n",
    "<br>\n",
    "<br>\n",
    "<br>\n",
    "<br>\n",
    "<br>\n",
    "<br>\n"
   ]
  },
  {
   "cell_type": "markdown",
   "metadata": {},
   "source": [
    "## 1. 前言\n",
    "### 1.1 上节课内容回顾\n",
    "\n",
    "\n",
    "\n",
    "### <font color='orange'>主要内容：</font>\n",
    "\n",
    "---\n",
    "\n",
    "<div>\n",
    "<img src='p1.png' width='700' height='700'/>\n",
    "</div>\n",
    "\n",
    "---\n",
    "\n",
    "### <font color='orange'>主要知识点： </font>\n",
    "\n",
    "\n",
    "<div>\n",
    "<img src='knowledge.png' width='700' height='700'/>\n",
    "</div>"
   ]
  },
  {
   "cell_type": "markdown",
   "metadata": {},
   "source": [
    "### 1.2 模型回顾\n",
    "\n",
    "\n",
    "### <font color='orange'>MatchPyramid： </font>\n",
    "\n",
    "---\n",
    "\n",
    "<div>\n",
    "<img src='model.png' width='400' height='400'/>\n",
    "</div>\n"
   ]
  },
  {
   "cell_type": "markdown",
   "metadata": {},
   "source": [
    "### 2 本课知识树\n",
    "\n",
    "\n",
    "### <font color='orange'>本课目标 </font>：\n",
    "\n",
    "1. <font color='green'>学习MatchPyramid模型的代码实现 </font>\n",
    "2. <font color='green'> PyTorch中矩阵乘法总结</font>\n",
    "3. <font color='green'>AdaptivePooling的使用和讲解 </font>\n",
    "4. <font color='green'>Conv2d的使用和讲解 </font>\n",
    "\n",
    "\n",
    "\n",
    "<div>\n",
    "<img src='known.png' width='900' height='900'/>\n",
    "</div>\n",
    "\n",
    "\n",
    "---"
   ]
  },
  {
   "cell_type": "markdown",
   "metadata": {},
   "source": [
    "## 3. 准备工作\n",
    "### 3.1 项目环境配置\n",
    "- Python3.7\n",
    "- jupyter notebook\n",
    "\n",
    "\n",
    "项目依赖：\n",
    "\n",
    "- torch (1.7.0+cpu)\n",
    "- tqdm (4.51.0)\n",
    "- nltk (3.5)\n",
    "- numpy (1.19.2)\n",
    "\n",
    "\n",
    "###  3.2 数据集下载\n",
    "\n",
    "MSRC DataSet:  链接:https://pan.baidu.com/s/1iiAlLTEJZkU8XPCgJCv5iA  密码:66r5\n",
    "\n",
    "\n",
    "###  3.3 Glove词向量\n",
    "\n",
    "\n",
    "\n",
    "---"
   ]
  },
  {
   "cell_type": "markdown",
   "metadata": {},
   "source": [
    "## 4.  PyTorch中矩阵乘法总结\n",
    "\n",
    "见  \"矩阵乘法.ipynb\"\n",
    "\n",
    " <br>\n",
    " <br>\n",
    " <br>\n",
    " \n",
    "---"
   ]
  },
  {
   "cell_type": "markdown",
   "metadata": {
    "collapsed": true
   },
   "source": [
    "## 5.  AdaptivePooling和Conv2d的使用和讲解\n",
    "\n",
    "见  \"pytorch-知识点.ipynb\"\n",
    "\n",
    " <br>\n",
    " <br>\n",
    " <br>\n",
    " \n",
    "---"
   ]
  },
  {
   "cell_type": "markdown",
   "metadata": {},
   "source": [
    "## 6.MatchPyramid模型复现\n",
    "\n",
    "见 Pycharm\n",
    "\n",
    " <br>\n",
    " <br>\n",
    " <br>\n",
    " <br>\n",
    " <br>\n",
    " <br>\n",
    " \n",
    "---"
   ]
  },
  {
   "cell_type": "markdown",
   "metadata": {},
   "source": []
  },
  {
   "cell_type": "markdown",
   "metadata": {},
   "source": [
    "## 7.课后做业\n",
    "\n",
    "- 【代码实践】1.亲自撰写MatchPyramid代码。尝试复现论文实验结果。\n",
    "- 【思考题】 思考如何改进这个模型？多channel？其他构建匹配矩阵的方法？用Transformer来抽取特征？\n",
    "- 【总结】 完成一篇博客，记下完整的学习过程、知识点以及自己的思考。"
   ]
  },
  {
   "cell_type": "code",
   "execution_count": null,
   "metadata": {},
   "outputs": [],
   "source": []
  }
 ],
 "metadata": {
  "kernelspec": {
   "display_name": "Python 3",
   "language": "python",
   "name": "python3"
  },
  "language_info": {
   "codemirror_mode": {
    "name": "ipython",
    "version": 3
   },
   "file_extension": ".py",
   "mimetype": "text/x-python",
   "name": "python",
   "nbconvert_exporter": "python",
   "pygments_lexer": "ipython3",
   "version": "3.6.2"
  }
 },
 "nbformat": 4,
 "nbformat_minor": 2
}
